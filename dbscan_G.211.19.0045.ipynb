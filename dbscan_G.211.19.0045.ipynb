{
  "nbformat": 4,
  "nbformat_minor": 0,
  "metadata": {
    "colab": {
      "name": "dbscan_G.211.19.0045.ipynb",
      "provenance": []
    },
    "kernelspec": {
      "name": "python3",
      "display_name": "Python 3"
    },
    "language_info": {
      "name": "python"
    }
  },
  "cells": [
    {
      "cell_type": "code",
      "metadata": {
        "colab": {
          "base_uri": "https://localhost:8080/"
        },
        "id": "ovMkr6VgzXfh",
        "outputId": "0f38cfb2-1572-46e9-8a19-463266f0bdfc"
      },
      "source": [
        "!git clone https://github.com/eriklindernoren/ML-From-Scratch"
      ],
      "execution_count": 1,
      "outputs": [
        {
          "output_type": "stream",
          "text": [
            "Cloning into 'ML-From-Scratch'...\n",
            "remote: Enumerating objects: 2558, done.\u001b[K\n",
            "remote: Total 2558 (delta 0), reused 0 (delta 0), pack-reused 2558\u001b[K\n",
            "Receiving objects: 100% (2558/2558), 553.45 KiB | 20.50 MiB/s, done.\n",
            "Resolving deltas: 100% (1960/1960), done.\n"
          ],
          "name": "stdout"
        }
      ]
    },
    {
      "cell_type": "code",
      "metadata": {
        "id": "yIhCLrfWzanx"
      },
      "source": [
        "import sys\n",
        "sys.path.append('/content/ML-From-Scratch')"
      ],
      "execution_count": 2,
      "outputs": []
    },
    {
      "cell_type": "code",
      "metadata": {
        "colab": {
          "base_uri": "https://localhost:8080/",
          "height": 325
        },
        "id": "dEN95qlmzq7z",
        "outputId": "9597478b-edd7-41ba-ef6d-b8a3b07e2335"
      },
      "source": [
        "from __future__ import print_function, division\n",
        "import numpy as np\n",
        "from mlfromscratch.utils import Plot, euclidean_distance, normalize\n",
        "\n",
        "\n",
        "class DBSCAN():\n",
        "    \"\"\"A density based clustering method that expands clusters from \n",
        "    samples that have more neighbors within a radius specified by eps\n",
        "    than the value min_samples.\n",
        "\n",
        "    Parameters:\n",
        "    -----------\n",
        "    eps: float\n",
        "        The radius within which samples are considered neighbors\n",
        "    min_samples: int\n",
        "        The number of neighbors required for the sample to be a core point. \n",
        "    \"\"\"\n",
        "    def __init__(self, eps=1, min_samples=5):\n",
        "        self.eps = eps\n",
        "        self.min_samples = min_samples\n",
        "\n",
        "    def _get_neighbors(self, sample_i):\n",
        "        \"\"\" Return a list of indexes of neighboring samples\n",
        "        A sample_2 is considered a neighbor of sample_1 if the distance between\n",
        "        them is smaller than epsilon \"\"\"\n",
        "        neighbors = []\n",
        "        idxs = np.arange(len(self.X))\n",
        "        for i, _sample in enumerate(self.X[idxs != sample_i]):\n",
        "            distance = euclidean_distance(self.X[sample_i], _sample)\n",
        "            if distance < self.eps:\n",
        "                neighbors.append(i)\n",
        "        return np.array(neighbors)\n",
        "\n",
        "    def _expand_cluster(self, sample_i, neighbors):\n",
        "        \"\"\" Recursive method which expands the cluster until we have reached the border\n",
        "        of the dense area (density determined by eps and min_samples) \"\"\"\n",
        "        cluster = [sample_i]\n",
        "        # Iterate through neighbors\n",
        "        for neighbor_i in neighbors:\n",
        "            if not neighbor_i in self.visited_samples:\n",
        "                self.visited_samples.append(neighbor_i)\n",
        "                # Fetch the sample's distant neighbors (neighbors of neighbor)\n",
        "                self.neighbors[neighbor_i] = self._get_neighbors(neighbor_i)\n",
        "                # Make sure the neighbor's neighbors are more than min_samples\n",
        "                # (If this is true the neighbor is a core point)\n",
        "                if len(self.neighbors[neighbor_i]) >= self.min_samples:\n",
        "                    # Expand the cluster from the neighbor\n",
        "                    expanded_cluster = self._expand_cluster(\n",
        "                        neighbor_i, self.neighbors[neighbor_i])\n",
        "                    # Add expanded cluster to this cluster\n",
        "                    cluster = cluster + expanded_cluster\n",
        "                else:\n",
        "                    # If the neighbor is not a core point we only add the neighbor point\n",
        "                    cluster.append(neighbor_i)\n",
        "        return cluster\n",
        "\n",
        "    def _get_cluster_labels(self):\n",
        "        \"\"\" Return the samples labels as the index of the cluster in which they are\n",
        "        contained \"\"\"\n",
        "        # Set default value to number of clusters\n",
        "        # Will make sure all outliers have same cluster label\n",
        "        labels = np.full(shape=self.X.shape[0], fill_value=len(self.clusters))\n",
        "        for cluster_i, cluster in enumerate(self.clusters):\n",
        "            for sample_i in cluster:\n",
        "                labels[sample_i] = cluster_i\n",
        "        return labels\n",
        "\n",
        "    # DBSCAN\n",
        "    def predict(self, X):\n",
        "        self.X = X\n",
        "        self.clusters = []\n",
        "        self.visited_samples = []\n",
        "        self.neighbors = {}\n",
        "        n_samples = np.shape(self.X)[0]\n",
        "        # Iterate through samples and expand clusters from them\n",
        "        # if they have more neighbors than self.min_samples\n",
        "        for sample_i in range(n_samples):\n",
        "            if sample_i in self.visited_samples:\n",
        "                continue\n",
        "            self.neighbors[sample_i] = self._get_neighbors(sample_i)\n",
        "            if len(self.neighbors[sample_i]) >= self.min_samples:\n",
        "                # If core point => mark as visited\n",
        "                self.visited_samples.append(sample_i)\n",
        "                # Sample has more neighbors than self.min_samples => expand\n",
        "                # cluster from sample\n",
        "                new_cluster = self._expand_cluster(\n",
        "                    sample_i, self.neighbors[sample_i])\n",
        "                # Add cluster to list of clusters\n",
        "                self.clusters.append(new_cluster)\n",
        "\n",
        "        # Get the resulting cluster labels\n",
        "        cluster_labels = self._get_cluster_labels()\n",
        "        return cluster_labels\n",
        "\n",
        "\n",
        "if __name__ == \"__main__\":\n",
        "    main()\n"
      ],
      "execution_count": 5,
      "outputs": [
        {
          "output_type": "stream",
          "text": [
            "Accuracy: 0.9101123595505618\n"
          ],
          "name": "stdout"
        },
        {
          "output_type": "display_data",
          "data": {
            "image/png": "[encoded data removed]",
            "text/plain": [
              "<Figure size 432x288 with 1 Axes>"
            ]
          },
          "metadata": {
            "tags": [],
            "needs_background": "light"
          }
        }
      ]
    }
  ]
}